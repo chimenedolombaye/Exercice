{
 "cells": [
  {
   "cell_type": "code",
   "execution_count": 12,
   "metadata": {},
   "outputs": [
    {
     "name": "stdout",
     "output_type": "stream",
     "text": [
      "Bienvenue dans Python Pizza Delivery \n"
     ]
    }
   ],
   "source": [
    "#Commencez par taper la ligne « Bienvenue dans Python Pizza Delivery » \n",
    "# qui affichera un message de bienvenue lorsque le code sera exécuté.\n",
    "\n",
    "print('Bienvenue dans Python Pizza Delivery ')\n",
    "\n",
    "Petite_pizza = 15\n",
    "Pizza_moyenne = 20\n",
    "Grande_pizza = 25\n",
    "\n",
    "pepperoni_petite = 2\n",
    "pepperoni_moyenne_grande = 3\n",
    "fromage_supplementaire = 1"
   ]
  },
  {
   "cell_type": "code",
   "execution_count": 13,
   "metadata": {},
   "outputs": [
    {
     "name": "stdout",
     "output_type": "stream",
     "text": [
      "Veuillez choisir la taille de la pizza (Petite/Moyenne/Grande) : Petite\n"
     ]
    }
   ],
   "source": [
    "#Ajoutez une ligne qui demande à l'utilisateur la taille de la pizza qu'il souhaite à l'aide de la fonction input() \n",
    "# et stocke l'entrée de l'utilisateur dans une variable nommée « taille ».\n",
    "taille= input(\"Veuillez choisir la taille de la pizza (Petite/Moyenne/Grande) : \")"
   ]
  },
  {
   "cell_type": "code",
   "execution_count": 14,
   "metadata": {},
   "outputs": [
    {
     "name": "stdout",
     "output_type": "stream",
     "text": [
      "Voulez-vous ajouter du pepperoni ? (Oui/Non) :Oui\n"
     ]
    }
   ],
   "source": [
    "# Ajoutez une ligne qui demande à l'utilisateur s'il veut du pepperoni sur sa pizza à l'aide de la fonction input() \n",
    "# et stocke l'entrée de l'utilisateur dans une variable nommée « add_pepperoni ».\n",
    "add_pepperoni = input(\"Voulez-vous ajouter du pepperoni ? (Oui/Non) :\")"
   ]
  },
  {
   "cell_type": "code",
   "execution_count": 15,
   "metadata": {},
   "outputs": [
    {
     "name": "stdout",
     "output_type": "stream",
     "text": [
      "Voulez-vous ajouter du fromage supplémentaire ? (Oui/Non) : Oui\n"
     ]
    }
   ],
   "source": [
    "# Ajoutez une ligne qui demande à l'utilisateur s'il souhaite du fromage supplémentaire sur sa pizza à l'aide de la fonction \n",
    "# input() et stocke l'entrée de l'utilisateur dans une variable nommée « extra_cheese ».\n",
    "extra_cheese =input(\"Voulez-vous ajouter du fromage supplémentaire ? (Oui/Non) : \")"
   ]
  },
  {
   "cell_type": "code",
   "execution_count": 16,
   "metadata": {},
   "outputs": [
    {
     "name": "stdout",
     "output_type": "stream",
     "text": [
      "Votre facture finale est de 18$.\n"
     ]
    }
   ],
   "source": [
    "# Calculer le prix en fonction de la taille de la pizza\n",
    "if taille.lower() == \"petite\":\n",
    "    prix_total = Petite_pizza\n",
    "elif taille.lower() == \"moyenne\":\n",
    "    prix_total = Pizza_moyenne\n",
    "elif taille.lower() == \"grande\":\n",
    "    prix_total = Grande_pizza\n",
    "else:\n",
    "    print(\"Taille de pizza non valide. Veuillez choisir parmi Petite, Moyenne ou Grande.\")\n",
    "    prix_total = 0\n",
    "\n",
    "# Ajouter les coûts supplémentaires \n",
    "if add_pepperoni.lower() == \"oui\":\n",
    "    if taille.lower() == \"petite\":\n",
    "        prix_total +=pepperoni_petite\n",
    "    else:\n",
    "        prix_total +=pepperoni_moyenne_grande\n",
    "\n",
    "if extra_cheese.lower() == \"oui\":\n",
    "    prix_total +=fromage_supplementaire\n",
    "\n",
    "# Afficher la facture finale\n",
    "if prix_total > 0:\n",
    "    print(f\"Votre facture finale est de {prix_total}$.\")\n",
    "else:\n",
    "    print(\"Votre commande n'a pas pu être traitée.\")"
   ]
  },
  {
   "cell_type": "code",
   "execution_count": null,
   "metadata": {},
   "outputs": [],
   "source": []
  }
 ],
 "metadata": {
  "kernelspec": {
   "display_name": "Python 3",
   "language": "python",
   "name": "python3"
  },
  "language_info": {
   "codemirror_mode": {
    "name": "ipython",
    "version": 3
   },
   "file_extension": ".py",
   "mimetype": "text/x-python",
   "name": "python",
   "nbconvert_exporter": "python",
   "pygments_lexer": "ipython3",
   "version": "3.8.3"
  }
 },
 "nbformat": 4,
 "nbformat_minor": 4
}
